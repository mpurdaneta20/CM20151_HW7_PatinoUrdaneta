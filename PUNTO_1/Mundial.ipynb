{
 "metadata": {
  "name": ""
 },
 "nbformat": 3,
 "nbformat_minor": 0,
 "worksheets": [
  {
   "cells": [
    {
     "cell_type": "heading",
     "level": 1,
     "metadata": {},
     "source": [
      "Punto 1"
     ]
    },
    {
     "cell_type": "markdown",
     "metadata": {},
     "source": [
      "\u00bfCuanto cuesta llenar el album del mundial?"
     ]
    },
    {
     "cell_type": "code",
     "collapsed": false,
     "input": [
      "from matplotlib import*\n",
      "from pylab import*\n",
      "from numpy import*\n",
      "from random import*"
     ],
     "language": "python",
     "metadata": {},
     "outputs": [],
     "prompt_number": 170
    },
    {
     "cell_type": "code",
     "collapsed": false,
     "input": [
      "total_laminas=640\n",
      "costo_unidad=400"
     ],
     "language": "python",
     "metadata": {},
     "outputs": [],
     "prompt_number": 177
    },
    {
     "cell_type": "code",
     "collapsed": false,
     "input": [
      "#Funcion que define si el cuadrito dentro del album esta ocupado o no \n",
      "def espacio_lleno(i,album):\n",
      "    if album[i] == 0:\n",
      "        return False\n",
      "    else:\n",
      "        return True"
     ],
     "language": "python",
     "metadata": {},
     "outputs": [],
     "prompt_number": 159
    },
    {
     "cell_type": "code",
     "collapsed": false,
     "input": [
      "#Funcion que define el costo total de llenar un album, teniendo en cuenta que aunque las laminas salgan repetidas no se pueden intercabiar\n",
      "def c_album(total_laminas_album,costo_unidad):\n",
      "    album=zeros(total_laminas)\n",
      "    unidades_compradas=0\n",
      "    repetidas=0\n",
      "    no_repetidas=0\n",
      "    costo_total=0\n",
      "    while no_repetidas < total_laminas_album:\n",
      "        lamina=randrange(0,total_laminas_album)\n",
      "        if espacio_lleno(lamina,album)== False:\n",
      "            album[lamina]=1\n",
      "            costo_total+=costo_unidad\n",
      "            no_repetidas+=1 \n",
      "        else:\n",
      "            costo_total+=costo_unidad\n",
      "            repetidas+=1\n",
      "    unidades_compradas=repetidas+no_repetidas\n",
      "    #print unidades_compradas\n",
      "    #print album\n",
      "    return costo_total"
     ],
     "language": "python",
     "metadata": {},
     "outputs": [],
     "prompt_number": 171
    },
    {
     "cell_type": "code",
     "collapsed": false,
     "input": [],
     "language": "python",
     "metadata": {},
     "outputs": [
      {
       "output_type": "stream",
       "stream": "stdout",
       "text": [
        "0\n",
        "1\n",
        "2\n",
        "3\n",
        "4\n",
        "5\n"
       ]
      }
     ],
     "prompt_number": 185
    },
    {
     "cell_type": "code",
     "collapsed": false,
     "input": [
      "print Valor_E_X\n",
      "print Varianza_X"
     ],
     "language": "python",
     "metadata": {},
     "outputs": [
      {
       "output_type": "stream",
       "stream": "stdout",
       "text": [
        "1942160.0\n",
        "786380868800.0\n"
       ]
      }
     ],
     "prompt_number": 168
    },
    {
     "cell_type": "code",
     "collapsed": false,
     "input": [
      "M=arange(10,100000,100)"
     ],
     "language": "python",
     "metadata": {},
     "outputs": [],
     "prompt_number": 151
    },
    {
     "cell_type": "code",
     "collapsed": false,
     "input": [],
     "language": "python",
     "metadata": {},
     "outputs": []
    }
   ],
   "metadata": {}
  }
 ]
}