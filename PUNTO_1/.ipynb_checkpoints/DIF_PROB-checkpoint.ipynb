{
 "metadata": {
  "name": ""
 },
 "nbformat": 3,
 "nbformat_minor": 0,
 "worksheets": [
  {
   "cells": [
    {
     "cell_type": "code",
     "collapsed": false,
     "input": [
      "from pylab import*\n",
      "import numpy\n",
      "import random\n",
      "import csv\n",
      "from random import*\n",
      "import datetime"
     ],
     "language": "python",
     "metadata": {},
     "outputs": [],
     "prompt_number": 27
    },
    {
     "cell_type": "code",
     "collapsed": false,
     "input": [
      "total_laminas_album=640\n",
      "costo_unidad=400\n",
      "holograficas=40\n",
      "especiales=40"
     ],
     "language": "python",
     "metadata": {},
     "outputs": [],
     "prompt_number": 3
    },
    {
     "cell_type": "code",
     "collapsed": false,
     "input": [
      "def espacio_lleno(i,album):\n",
      "    if album[i] == 0:\n",
      "        return False\n",
      "    else:\n",
      "        return True"
     ],
     "language": "python",
     "metadata": {},
     "outputs": [],
     "prompt_number": 4
    },
    {
     "cell_type": "code",
     "collapsed": false,
     "input": [
      "def seleccionar_lamina():\n",
      "    items  = [[\"normal\", 0.667], [\"holografica\", 0.222], [\"especial\", 0.111]]\n",
      "    elems = [i[0] for i in items]\n",
      "    probs = [i[1] for i in items]\n",
      "    \n",
      "    Lamina_S=numpy.random.choice(elems, 1, p=probs)\n",
      "    #print Lamina_S\n",
      "    return Lamina_S"
     ],
     "language": "python",
     "metadata": {},
     "outputs": [],
     "prompt_number": 5
    },
    {
     "cell_type": "code",
     "collapsed": false,
     "input": [
      "def c_album_prob(total_laminas_album,costo_unidad,numero_a_llenar,holograficas,especiales):\n",
      "    \n",
      "    costo_total_X=zeros(numero_a_llenar)\n",
      "    \n",
      "    for i in range(0,numero_a_llenar):\n",
      "        no_repetidas=0\n",
      "        costo_total=0\n",
      "        subtotal=total_laminas_album-holograficas-especiales\n",
      "        album_n=zeros(subtotal)\n",
      "        album_h=zeros(holograficas)\n",
      "        album_e=zeros(especiales)\n",
      "        \n",
      "        while no_repetidas < total_laminas_album:\n",
      "            L_S=seleccionar_lamina()\n",
      "            \n",
      "            if L_S==\"normal\":\n",
      "                lamina=randrange(0,subtotal)\n",
      "                if espacio_lleno(lamina,album_n)== False:\n",
      "                    album_n[lamina]=1\n",
      "                    costo_total+=costo_unidad\n",
      "                    no_repetidas+=1 \n",
      "                    \n",
      "            if L_S==\"holografica\":\n",
      "                lamina=randrange(0,holograficas)\n",
      "                if espacio_lleno(lamina,album_h)== False:\n",
      "                    album_h[lamina]=1\n",
      "                    costo_total+=costo_unidad\n",
      "                    no_repetidas+=1 \n",
      "                    \n",
      "            if L_S==\"especial\":\n",
      "                lamina=randrange(0,especiales)\n",
      "                if espacio_lleno(lamina,album_e)== False:\n",
      "                    album_e[lamina]=1\n",
      "                    costo_total+=costo_unidad\n",
      "                    no_repetidas+=1 \n",
      "                \n",
      "            else:\n",
      "                costo_total+=costo_unidad\n",
      "        \n",
      "        \n",
      "        costo_total_X[i]=costo_total\n",
      "    return costo_total_X"
     ],
     "language": "python",
     "metadata": {},
     "outputs": [],
     "prompt_number": 6
    },
    {
     "cell_type": "code",
     "collapsed": false,
     "input": [
      "#Prueba el metodo anterior para llenar un album\n",
      "u=c_album_prob(total_laminas_album,costo_unidad,1,holograficas,especiales) #1\n",
      "d=c_album_prob(total_laminas_album,costo_unidad,10,holograficas,especiales) #10\n",
      "c=c_album_prob(total_laminas_album,costo_unidad,100,holograficas,especiales) #100\n",
      "m=c_album_prob(total_laminas_album,costo_unidad,1000,holograficas,especiales) #1000\n",
      "dm=c_album_prob(total_laminas_album,costo_unidad,10000,holograficas,especiales) #10000"
     ],
     "language": "python",
     "metadata": {},
     "outputs": [],
     "prompt_number": 18
    },
    {
     "cell_type": "code",
     "collapsed": false,
     "input": [
      "#Csv que demuestra que el metodo anterior si genera los costos estimados de llenar el album\n",
      "csv_out = open('CostoAlbumMundial_probabilidades_Funciona.csv', 'wb')\n",
      "\n",
      "Costos = csv.writer(csv_out)\n",
      "\n",
      "for row in zip(u, d, c, m, dm):\n",
      "    Costos.writerow(row)\n",
      "\n",
      "csv_out.close()"
     ],
     "language": "python",
     "metadata": {},
     "outputs": [],
     "prompt_number": 28
    },
    {
     "cell_type": "code",
     "collapsed": false,
     "input": [],
     "language": "python",
     "metadata": {},
     "outputs": []
    },
    {
     "cell_type": "code",
     "collapsed": false,
     "input": [
      "albums_a_llenar(10,100000,10)"
     ],
     "language": "python",
     "metadata": {},
     "outputs": []
    },
    {
     "cell_type": "code",
     "collapsed": false,
     "input": [
      "csv_out = open('CostoAlbumMundialprobabilidades.csv', 'wb')\n",
      "\n",
      "Costos = csv.writer(csv_out)\n",
      "\n",
      "for row in zip(albums_a_llenar, Valor_E_X, Varianza_X):\n",
      "    Costos.writerow(row)\n",
      "\n",
      "csv_out.close()"
     ],
     "language": "python",
     "metadata": {},
     "outputs": []
    },
    {
     "cell_type": "code",
     "collapsed": false,
     "input": [
      "a= mean(ValorEX)\n",
      "b=sqrt(mean(VarianzaX))"
     ],
     "language": "python",
     "metadata": {},
     "outputs": []
    },
    {
     "cell_type": "code",
     "collapsed": false,
     "input": [
      "print \"R// Lo que cuesta llenar el album es\", a, \"junto con un error estandar de aproximadamente\", b"
     ],
     "language": "python",
     "metadata": {},
     "outputs": []
    },
    {
     "cell_type": "code",
     "collapsed": false,
     "input": [
      "#REFERENCIAS\n",
      "    #http://stackoverflow.com/questions/3679694/a-weighted-version-of-random-choice"
     ],
     "language": "python",
     "metadata": {},
     "outputs": []
    },
    {
     "cell_type": "code",
     "collapsed": false,
     "input": [],
     "language": "python",
     "metadata": {},
     "outputs": []
    }
   ],
   "metadata": {}
  }
 ]
}