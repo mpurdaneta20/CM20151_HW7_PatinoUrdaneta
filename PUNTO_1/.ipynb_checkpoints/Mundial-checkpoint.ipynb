{
 "metadata": {
  "name": ""
 },
 "nbformat": 3,
 "nbformat_minor": 0,
 "worksheets": [
  {
   "cells": [
    {
     "cell_type": "heading",
     "level": 1,
     "metadata": {},
     "source": [
      "Punto 1"
     ]
    },
    {
     "cell_type": "markdown",
     "metadata": {},
     "source": [
      "\u00bfCuanto cuesta llenar el album del mundial?\n",
      "En una primera instancia se realiza la estimacion del valor esperado y la varianza con el fin de determinar el costo de llenar una cantidad finita de albums (m=10:100:10\u2075) y la variabilidad de dicho costo."
     ]
    },
    {
     "cell_type": "code",
     "collapsed": false,
     "input": [
      "from matplotlib import*\n",
      "from pylab import*\n",
      "from numpy import*\n",
      "from random import*"
     ],
     "language": "python",
     "metadata": {},
     "outputs": [],
     "prompt_number": 3
    },
    {
     "cell_type": "code",
     "collapsed": false,
     "input": [
      "total_laminas_album=640\n",
      "costo_unidad=400"
     ],
     "language": "python",
     "metadata": {},
     "outputs": [],
     "prompt_number": 8
    },
    {
     "cell_type": "code",
     "collapsed": false,
     "input": [
      "#Funcion que define si el cuadrito dentro del album esta ocupado o no \n",
      "def espacio_lleno(i,album):\n",
      "    if album[i] == 0:\n",
      "        return False\n",
      "    else:\n",
      "        return True"
     ],
     "language": "python",
     "metadata": {},
     "outputs": [],
     "prompt_number": 5
    },
    {
     "cell_type": "code",
     "collapsed": false,
     "input": [
      "#Funcion que define el costo total de llenar un album, teniendo en cuenta que aunque las laminas salgan repetidas no se pueden intercabiar\n",
      "def c_album(total_laminas_album,costo_unidad):\n",
      "    album=zeros(total_laminas)\n",
      "    unidades_compradas=0\n",
      "    repetidas=0\n",
      "    no_repetidas=0\n",
      "    costo_total=0\n",
      "    while no_repetidas < total_laminas_album:\n",
      "        lamina=randrange(0,total_laminas_album)\n",
      "        if espacio_lleno(lamina,album)== False:\n",
      "            album[lamina]=1\n",
      "            costo_total+=costo_unidad\n",
      "            no_repetidas+=1 \n",
      "        else:\n",
      "            costo_total+=costo_unidad\n",
      "            repetidas+=1\n",
      "    unidades_compradas=repetidas+no_repetidas\n",
      "    #print unidades_compradas\n",
      "    #print album\n",
      "    return costo_total"
     ],
     "language": "python",
     "metadata": {},
     "outputs": [],
     "prompt_number": 20
    },
    {
     "cell_type": "code",
     "collapsed": false,
     "input": [
      "#Prueba, se llena un unico album\n",
      "c_album(total_laminas_album,costo_unidad)"
     ],
     "language": "python",
     "metadata": {},
     "outputs": [
      {
       "metadata": {},
       "output_type": "pyout",
       "prompt_number": 24,
       "text": [
        "1936000"
       ]
      }
     ],
     "prompt_number": 24
    },
    {
     "cell_type": "code",
     "collapsed": false,
     "input": [
      "albums_a_llenar=arange(10,1000,100)\n",
      "Valor_E_X=\n",
      "Varianza_X=\n",
      "for i in range():\n",
      "    s=zeros(M[i])\n",
      "    for i in range(0,10):\n",
      "        s[i]=c_album(total_laminas_album,costo_unidad)\n",
      "    Valor_E_X=mean(s)\n",
      "    Varianza_X=var(s)"
     ],
     "language": "python",
     "metadata": {},
     "outputs": [
      {
       "output_type": "stream",
       "stream": "stdout",
       "text": [
        "[ 1880400.  2845600.  2276000.  1841200.  1374800.  1398800.  3038800.\n",
        "  1844400.  1644400.  2408800.]\n"
       ]
      }
     ],
     "prompt_number": 23
    },
    {
     "cell_type": "code",
     "collapsed": false,
     "input": [
      "print Valor_E_X\n",
      "print Varianza_X"
     ],
     "language": "python",
     "metadata": {},
     "outputs": [
      {
       "output_type": "stream",
       "stream": "stdout",
       "text": [
        "1808500.0\n",
        "101581828400.0\n"
       ]
      }
     ],
     "prompt_number": 15
    },
    {
     "cell_type": "code",
     "collapsed": false,
     "input": [],
     "language": "python",
     "metadata": {},
     "outputs": []
    }
   ],
   "metadata": {}
  }
 ]
}