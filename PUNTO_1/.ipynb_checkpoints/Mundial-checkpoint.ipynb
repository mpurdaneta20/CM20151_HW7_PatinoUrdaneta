{
 "metadata": {
  "name": ""
 },
 "nbformat": 3,
 "nbformat_minor": 0,
 "worksheets": [
  {
   "cells": [
    {
     "cell_type": "heading",
     "level": 1,
     "metadata": {},
     "source": [
      "Punto 1"
     ]
    },
    {
     "cell_type": "markdown",
     "metadata": {},
     "source": [
      "a) \u00bfCuanto cuesta llenar el album del mundial?\n",
      "En una primera instancia se realiza la estimacion del valor esperado y la varianza con el fin de determinar el costo de llenar una cantidad finita de albums (m=10:100:10\u2075) y la variabilidad de dicho costo."
     ]
    },
    {
     "cell_type": "code",
     "collapsed": false,
     "input": [
      "from matplotlib import*\n",
      "from pylab import*\n",
      "from numpy import*\n",
      "from random import*\n",
      "from scipy.stats import t\n",
      "import csv\n",
      "from csv import*\n",
      "import datetime\n",
      "from math import*"
     ],
     "language": "python",
     "metadata": {},
     "outputs": [],
     "prompt_number": 18
    },
    {
     "cell_type": "code",
     "collapsed": false,
     "input": [
      "total_laminas_album=640\n",
      "costo_unidad=400\n",
      "holograficas=40\n",
      "especiales=40"
     ],
     "language": "python",
     "metadata": {},
     "outputs": [],
     "prompt_number": 3
    },
    {
     "cell_type": "code",
     "collapsed": false,
     "input": [
      "#Funcion que define si el cuadrito dentro del album esta ocupado o no \n",
      "def espacio_lleno(i,album):\n",
      "    if album[i] == 0:\n",
      "        return False\n",
      "    else:\n",
      "        return True"
     ],
     "language": "python",
     "metadata": {},
     "outputs": [],
     "prompt_number": 4
    },
    {
     "cell_type": "code",
     "collapsed": false,
     "input": [
      "#Funcion que define el costo total de llenar un album, teniendo en cuenta que aunque las laminas salgan repetidas no se pueden intercabiar\n",
      "def c_album(total_laminas_album,costo_unidad):\n",
      "    album=zeros(total_laminas_album)\n",
      "    unidades_compradas=0\n",
      "    repetidas=0\n",
      "    no_repetidas=0\n",
      "    costo_total=0\n",
      "    while no_repetidas < total_laminas_album:\n",
      "        lamina=randrange(0,total_laminas_album)\n",
      "        if espacio_lleno(lamina,album)== False:\n",
      "            album[lamina]=1\n",
      "            costo_total+=costo_unidad\n",
      "            no_repetidas+=1 \n",
      "        else:\n",
      "            costo_total+=costo_unidad\n",
      "            repetidas+=1\n",
      "    unidades_compradas=repetidas+no_repetidas\n",
      "    #print unidades_compradas\n",
      "    #print album\n",
      "    return costo_total"
     ],
     "language": "python",
     "metadata": {},
     "outputs": [],
     "prompt_number": 11
    },
    {
     "cell_type": "code",
     "collapsed": false,
     "input": [
      "albums_a_llenar=arange(10,1000,10)\n",
      "numero_de_albums=len(albums_a_llenar)\n",
      "\n",
      "Valor_E_X=zeros(numero_de_albums)\n",
      "Varianza_X=zeros(numero_de_albums)"
     ],
     "language": "python",
     "metadata": {},
     "outputs": [],
     "prompt_number": 12
    },
    {
     "cell_type": "code",
     "collapsed": false,
     "input": [
      "#Encuentra el valor esperado y la varianza dependiendo del tamano de muestra (numero de albums a llenar)\n",
      "for j in range(0,numero_de_albums):\n",
      "    print j\n",
      "    vector_aux=zeros(albums_a_llenar[j])\n",
      "    for i in range(0,albums_a_llenar[j]):\n",
      "        vector_aux[i]=c_album(total_laminas_album,costo_unidad)\n",
      "    Valor_E_X[j]=mean(vector_aux)\n",
      "    Varianza_X[j]=var(vector_aux)"
     ],
     "language": "python",
     "metadata": {},
     "outputs": [],
     "prompt_number": 22
    },
    {
     "cell_type": "code",
     "collapsed": false,
     "input": [
      "#Verificamos si se llenaron lo vectores\n",
      "print Valor_E_X\n",
      "print Varianza_X"
     ],
     "language": "python",
     "metadata": {},
     "outputs": [
      {
       "output_type": "stream",
       "stream": "stdout",
       "text": [
        "[ 0.  0.  0.  0.  0.  0.  0.  0.  0.  0.  0.  0.  0.  0.  0.  0.  0.  0.\n",
        "  0.  0.  0.  0.  0.  0.  0.  0.  0.  0.  0.  0.  0.  0.  0.  0.  0.  0.]\n",
        "[ 0.  0.  0.  0.  0.  0.  0.  0.  0.  0.  0.  0.  0.  0.  0.  0.  0.  0.\n",
        "  0.  0.  0.  0.  0.  0.  0.  0.  0.  0.  0.  0.  0.  0.  0.  0.  0.  0.]\n"
       ]
      }
     ],
     "prompt_number": 23
    },
    {
     "cell_type": "code",
     "collapsed": false,
     "input": [
      "#El metodo funciona para una cantidad peque\u00f1a pero para muestras grandes se demora demasiado. En teoria de 10 en 10 se podria demorar alrededor de 3 dias, es por esto que deje corriendo el programa por 2 dias en compufisica desde 1000 hasta 10000 de 50 en 50. Con el fin de ahorrar tiempo se genera un .csv para ambas situaciones"
     ],
     "language": "python",
     "metadata": {},
     "outputs": []
    },
    {
     "cell_type": "code",
     "collapsed": false,
     "input": [
      "#Se crea el csv para usar en futuras ocasiones\n",
      "csv_out = open('CostoAlbumMundial10_1000_10.csv', 'wb')\n",
      "\n",
      "Costos = csv.writer(csv_out)\n",
      "\n",
      "for row in zip(albums_a_llenar, Valor_E_X, Varianza_X):\n",
      "    Costos.writerow(row)\n",
      "\n",
      "csv_out.close()"
     ],
     "language": "python",
     "metadata": {},
     "outputs": [],
     "prompt_number": 16
    },
    {
     "cell_type": "code",
     "collapsed": false,
     "input": [
      "#Para futuras ocasiones dado que correr el archivo es un demorado (alrededor de 30 min) se abre el archivo\n",
      "albumsallenar10, ValorEX10, VarianzaX10= genfromtxt(\"CostoAlbumMundial10_1000_10.csv\", delimiter=\",\", unpack=True)"
     ],
     "language": "python",
     "metadata": {},
     "outputs": [],
     "prompt_number": 17
    },
    {
     "cell_type": "code",
     "collapsed": false,
     "input": [
      "#El metodo con el cual se realizo el CostoAlbumMundial1000_100000_50.csv se encuentra en un .py adjunto, el correr el archivo se demora mucho tiempo (2 dias)"
     ],
     "language": "python",
     "metadata": {},
     "outputs": []
    },
    {
     "cell_type": "code",
     "collapsed": false,
     "input": [
      "#Para futuras ocasiones dado que correr el archivo es un demorado (alrededor de 30 min) se abre el archivo\n",
      "albumsallenar50, ValorEX50, VarianzaX50= genfromtxt(\"CostoAlbumMundial1000_100000_50.csv\", delimiter=\",\", unpack=True)"
     ],
     "language": "python",
     "metadata": {},
     "outputs": []
    },
    {
     "cell_type": "code",
     "collapsed": false,
     "input": [
      "albumsallenar=list(albumsallenar50)+list(albumsallenar10)\n",
      "ValorEX=list(ValorEX10)+list(ValorEX50)\n",
      "VarianzaX=list(VarianzaX10)+list(VarianzaX50)"
     ],
     "language": "python",
     "metadata": {},
     "outputs": []
    },
    {
     "cell_type": "code",
     "collapsed": false,
     "input": [
      "#Grafica el tamano de muestra contra el valor esperado y la varianza del costo total (X)\n",
      "fig, ax1 = subplots()\n",
      "\n",
      "ax2 = ax1.twinx()\n",
      "ax1.plot(albumsallenar, ValorEX, 'g-')\n",
      "ax2.plot(albumsallenar, VarianzaX, 'b--')\n",
      "\n",
      "title(u\"Valor Esperado y Varianza del Costo Total\")\n",
      "ax1.set_xlabel('Numero de Albums a llenar')\n",
      "ax1.set_ylabel('Valor esperado', color='g')\n",
      "ax2.set_ylabel('Varianza', color='b')\n",
      "\n",
      "show()"
     ],
     "language": "python",
     "metadata": {},
     "outputs": [],
     "prompt_number": 85
    },
    {
     "cell_type": "code",
     "collapsed": false,
     "input": [
      "a= mean(ValorEX)\n",
      "b=sqrt(mean(VarianzaX))"
     ],
     "language": "python",
     "metadata": {},
     "outputs": [],
     "prompt_number": 71
    },
    {
     "cell_type": "code",
     "collapsed": false,
     "input": [
      "#Resutultado basandose en los .csv anteriores\n",
      "print \"R// Lo que cuesta llenar el album es\", a, \"junto con un error estandar de aproximadamente\", b"
     ],
     "language": "python",
     "metadata": {},
     "outputs": [
      {
       "output_type": "stream",
       "stream": "stdout",
       "text": [
        "R// Lo que cuesta llenar el album es 1809987.10391 junto con un error estandar de aproximadamente 337128.559353\n"
       ]
      }
     ],
     "prompt_number": 72
    },
    {
     "cell_type": "code",
     "collapsed": false,
     "input": [
      "#El album de 36 iteraciones es el siguiente \n",
      "albumsallenar36, ValorEX36, VarianzaX36= genfromtxt(\"CostoAlbumMundial_36iteraciones.csv\", delimiter=\",\", unpack=True)"
     ],
     "language": "python",
     "metadata": {},
     "outputs": []
    },
    {
     "cell_type": "code",
     "collapsed": false,
     "input": [
      "#Grafica el tamano de muestra contra el valor esperado y la varianza del costo total (X)\n",
      "fig, ax1 = subplots()\n",
      "\n",
      "ax2 = ax1.twinx()\n",
      "ax1.plot(albumsallenar36, ValorEX36, 'g-')\n",
      "ax2.plot(albumsallenar36, VarianzaX36, 'b--')\n",
      "\n",
      "title(u\"Valor Esperado y Varianza del Costo Total\")\n",
      "ax1.set_xlabel('Numero de Albums a llenar')\n",
      "ax1.set_ylabel('Valor esperado', color='g')\n",
      "ax2.set_ylabel('Varianza', color='b')\n",
      "\n",
      "show()"
     ],
     "language": "python",
     "metadata": {},
     "outputs": []
    },
    {
     "cell_type": "code",
     "collapsed": false,
     "input": [
      "a= mean(ValorEX)\n",
      "b=sqrt(mean(VarianzaX))"
     ],
     "language": "python",
     "metadata": {},
     "outputs": []
    },
    {
     "cell_type": "code",
     "collapsed": false,
     "input": [
      "#Resutultado basandose en los .csv anteriores\n",
      "print \"R// Lo que cuesta llenar el album es\", a, \"junto con un error estandar de aproximadamente\", b, \"basandose en el de 26 iteraciones.\""
     ],
     "language": "python",
     "metadata": {},
     "outputs": []
    },
    {
     "cell_type": "code",
     "collapsed": false,
     "input": [
      "#Referencias\n",
      "    #http://stackoverflow.com/questions/14762181/adding-a-y-axis-label-to-secondary-y-axis-in-matplotlib\n",
      "    #http://www.whit.com.au/blog/2011/11/reading-and-writing-csv-files/\n",
      "    #https://www.wakari.io/sharing/bundle/bultako/CursoPythonCientifico"
     ],
     "language": "python",
     "metadata": {},
     "outputs": [],
     "prompt_number": 77
    },
    {
     "cell_type": "markdown",
     "metadata": {},
     "source": [
      "b) Cual es el tamano de muestra m que se necesita para obtener 95 % de confianza en que |\u03bcm \u2212 \u03bc| \u2264 10\u207b\u2076"
     ]
    },
    {
     "cell_type": "code",
     "collapsed": false,
     "input": [
      "#Se realiza el primedio de los valores esperados \u03bcm\n",
      "Valor_prom_E=mean(ValorEX)\n",
      "\n",
      "#El absoluto de la diferencia entre la Media_mu y los valores esperados de X \n",
      "Diferencial=abs(Valor_prom_E-ValorEX)"
     ],
     "language": "python",
     "metadata": {},
     "outputs": [],
     "prompt_number": 73
    },
    {
     "cell_type": "code",
     "collapsed": false,
     "input": [
      "#Se realiza la grafica de los tama\u00f1os de muestra vs el diferencial\n",
      "plot(albums_a_llenar,Diferencial)\n",
      "yscale('log')\n",
      "title(u\"Valor Esperado y Varianza del Costo Total\")\n",
      "xlabel('Numero de Albums a llenar')\n",
      "ylabel('Diferencial entre la media del Valor E y cada Valor E')\n",
      "show()"
     ],
     "language": "python",
     "metadata": {},
     "outputs": [],
     "prompt_number": 74
    },
    {
     "cell_type": "code",
     "collapsed": false,
     "input": [
      "print \"R//No converge al valor esperado, dado que se conoce sigma y a media pero no se conoce el tipo de distribucion de los datos para hallar un tama\u00f1o de muestra dado un alfa de 0,05\""
     ],
     "language": "python",
     "metadata": {},
     "outputs": [
      {
       "output_type": "stream",
       "stream": "stdout",
       "text": [
        "R//\n"
       ]
      }
     ],
     "prompt_number": 49
    },
    {
     "cell_type": "code",
     "collapsed": false,
     "input": [
      "#Referencias\n",
      "    #https://www.wakari.io/sharing/bundle/bultako/CursoPythonCientifico"
     ],
     "language": "python",
     "metadata": {},
     "outputs": []
    },
    {
     "cell_type": "markdown",
     "metadata": {},
     "source": [
      "c) Ahora la probabilidad de obtener una lamina es diferente: $Pholograficas$= 1/3 $Pnormal$,  $Pespeciales$= 1/6 $Pnormal$"
     ]
    },
    {
     "cell_type": "code",
     "collapsed": false,
     "input": [
      "def seleccionar_lamina():\n",
      "    items  = [[\"normal\", 0.667], [\"holografica\", 0.222], [\"especial\", 0.111]]\n",
      "    elems = [i[0] for i in items]\n",
      "    probs = [i[1] for i in items]\n",
      "    \n",
      "    Lamina_S=numpy.random.choice(elems, 1, p=probs)\n",
      "    #print Lamina_S\n",
      "    return Lamina_S"
     ],
     "language": "python",
     "metadata": {},
     "outputs": [],
     "prompt_number": 14
    },
    {
     "cell_type": "code",
     "collapsed": false,
     "input": [
      "def c_album_prob(total_laminas_album,costo_unidad,numero_a_llenar,holograficas,especiales):\n",
      "    \n",
      "    costo_total_X=zeros(numero_a_llenar)\n",
      "    \n",
      "    for i in range(0,numero_a_llenar):\n",
      "        no_repetidas=0\n",
      "        costo_total=0\n",
      "        subtotal=total_laminas_album-holograficas-especiales\n",
      "        album_n=zeros(subtotal)\n",
      "        album_h=zeros(holograficas)\n",
      "        album_e=zeros(especiales)\n",
      "        \n",
      "        while no_repetidas < total_laminas_album:\n",
      "            L_S=seleccionar_lamina()\n",
      "            \n",
      "            if L_S==\"normal\":\n",
      "                lamina=randrange(0,subtotal)\n",
      "                if espacio_lleno(lamina,album_n)== False:\n",
      "                    album_n[lamina]=1\n",
      "                    costo_total+=costo_unidad\n",
      "                    no_repetidas+=1 \n",
      "                    \n",
      "            if L_S==\"holografica\":\n",
      "                lamina=randrange(0,holograficas)\n",
      "                if espacio_lleno(lamina,album_h)== False:\n",
      "                    album_h[lamina]=1\n",
      "                    costo_total+=costo_unidad\n",
      "                    no_repetidas+=1 \n",
      "                    \n",
      "            if L_S==\"especial\":\n",
      "                lamina=randrange(0,especiales)\n",
      "                if espacio_lleno(lamina,album_e)== False:\n",
      "                    album_e[lamina]=1\n",
      "                    costo_total+=costo_unidad\n",
      "                    no_repetidas+=1 \n",
      "                \n",
      "            else:\n",
      "                costo_total+=costo_unidad\n",
      "        \n",
      "        \n",
      "        costo_total_X[i]=costo_total\n",
      "    return costo_total_X"
     ],
     "language": "python",
     "metadata": {},
     "outputs": [],
     "prompt_number": 20
    },
    {
     "cell_type": "code",
     "collapsed": false,
     "input": [
      "u=c_album_prob(total_laminas_album,costo_unidad,1,holograficas,especiales) #1\n",
      "d=c_album_prob(total_laminas_album,costo_unidad,10,holograficas,especiales) #10\n",
      "c=c_album_prob(total_laminas_album,costo_unidad,100,holograficas,especiales) #100\n",
      "m=c_album_prob(total_laminas_album,costo_unidad,1000,holograficas,especiales) #1000\n",
      "dm=c_album_prob(total_laminas_album,costo_unidad,10000,holograficas,especiales) #10000"
     ],
     "language": "python",
     "metadata": {},
     "outputs": []
    },
    {
     "cell_type": "code",
     "collapsed": false,
     "input": [
      "#Csv que demuestra que el metodo anterior si genera los costos estimados de llenar el album\n",
      "csv_out = open('CostoAlbumMundial_probabilidades_Funciona.csv', 'wb')\n",
      "\n",
      "Costos = csv.writer(csv_out)\n",
      "\n",
      "for row in zip(u, d, c, m, dm):\n",
      "    Costos.writerow(row)\n",
      "\n",
      "csv_out.close()"
     ],
     "language": "python",
     "metadata": {},
     "outputs": []
    },
    {
     "cell_type": "code",
     "collapsed": false,
     "input": [
      "print datetime.datetime.now()"
     ],
     "language": "python",
     "metadata": {},
     "outputs": [
      {
       "output_type": "stream",
       "stream": "stdout",
       "text": [
        "2015-05-08 08:14:25.554376\n"
       ]
      }
     ],
     "prompt_number": 22
    },
    {
     "cell_type": "code",
     "collapsed": false,
     "input": [
      "#Encuentra el valor esperado y la varianza dependiendo del tamano de muestra (numero de albums a llenar)\n",
      "albums_a_llenar_10=arange(10,100,10)\n",
      "albums_a_llenar_100=arange(100,1000,100)\n",
      "albums_a_llenar_1000=arange(1000,10000,1000)\n",
      "albums_a_llenar_10000=arange(10000,100000,10000)\n",
      "\n",
      "numero_de_albums_1=len(albums_a_llenar_10)+len(albums_a_llenar_100)\n",
      "numero_de_albums_2=len(albums_a_llenar_10)+len(albums_a_llenar_100)+len(albums_a_llenar_1000)\n",
      "numero_de_albums_T=len(albums_a_llenar_10)+len(albums_a_llenar_100)+len(albums_a_llenar_1000)+len(albums_a_llenar_10000)\n",
      "\n",
      "Valor_E_X=zeros(numero_de_albums_T)\n",
      "Varianza_X=zeros(numero_de_albums_T)\n",
      "\n",
      "# <codecell>\n",
      "\n",
      "for j in range(0,numero_de_albums_T):\n",
      "    print j\n",
      "    if j<len(albums_a_llenar_10):\n",
      "        s=c_album_prob(total_laminas_album,costo_unidad,albums_a_llenar_10[j])\n",
      "    if j>=len(albums_a_llenar_10) and j<numero_de_albums_1:\n",
      "        s=c_album_prob(total_laminas_album,costo_unidad,albums_a_llenar_100[j-9])\n",
      "    if j>=numero_de_albums_1 and j <numero_de_albums_2:\n",
      "        s=c_album_prob(total_laminas_album,costo_unidad,albums_a_llenar_1000[j-18])\n",
      "    if j>=numero_de_albums_2:\n",
      "        s=c_album_prob(total_laminas_album,costo_unidad,albums_a_llenar_10000[j-27])\n",
      "    Valor_E_X[j]=mean(s)\n",
      "    Varianza_X[j]=var(s)"
     ],
     "language": "python",
     "metadata": {},
     "outputs": [
      {
       "ename": "NameError",
       "evalue": "name 'c_album_prob' is not defined",
       "output_type": "pyerr",
       "traceback": [
        "\u001b[0;31m---------------------------------------------------------------------------\u001b[0m\n\u001b[0;31mNameError\u001b[0m                                 Traceback (most recent call last)",
        "\u001b[0;32m<ipython-input-19-745640c3337b>\u001b[0m in \u001b[0;36m<module>\u001b[0;34m()\u001b[0m\n\u001b[1;32m     17\u001b[0m     \u001b[0;32mprint\u001b[0m \u001b[0mj\u001b[0m\u001b[0;34m\u001b[0m\u001b[0m\n\u001b[1;32m     18\u001b[0m     \u001b[0;32mif\u001b[0m \u001b[0mj\u001b[0m\u001b[0;34m<\u001b[0m\u001b[0mlen\u001b[0m\u001b[0;34m(\u001b[0m\u001b[0malbums_a_llenar_10\u001b[0m\u001b[0;34m)\u001b[0m\u001b[0;34m:\u001b[0m\u001b[0;34m\u001b[0m\u001b[0m\n\u001b[0;32m---> 19\u001b[0;31m         \u001b[0ms\u001b[0m\u001b[0;34m=\u001b[0m\u001b[0mc_album_prob\u001b[0m\u001b[0;34m(\u001b[0m\u001b[0mtotal_laminas_album\u001b[0m\u001b[0;34m,\u001b[0m\u001b[0mcosto_unidad\u001b[0m\u001b[0;34m,\u001b[0m\u001b[0malbums_a_llenar_10\u001b[0m\u001b[0;34m[\u001b[0m\u001b[0mj\u001b[0m\u001b[0;34m]\u001b[0m\u001b[0;34m)\u001b[0m\u001b[0;34m\u001b[0m\u001b[0m\n\u001b[0m\u001b[1;32m     20\u001b[0m     \u001b[0;32mif\u001b[0m \u001b[0mj\u001b[0m\u001b[0;34m>=\u001b[0m\u001b[0mlen\u001b[0m\u001b[0;34m(\u001b[0m\u001b[0malbums_a_llenar_10\u001b[0m\u001b[0;34m)\u001b[0m \u001b[0;32mand\u001b[0m \u001b[0mj\u001b[0m\u001b[0;34m<\u001b[0m\u001b[0mnumero_de_albums_1\u001b[0m\u001b[0;34m:\u001b[0m\u001b[0;34m\u001b[0m\u001b[0m\n\u001b[1;32m     21\u001b[0m         \u001b[0ms\u001b[0m\u001b[0;34m=\u001b[0m\u001b[0mc_album_prob\u001b[0m\u001b[0;34m(\u001b[0m\u001b[0mtotal_laminas_album\u001b[0m\u001b[0;34m,\u001b[0m\u001b[0mcosto_unidad\u001b[0m\u001b[0;34m,\u001b[0m\u001b[0malbums_a_llenar_100\u001b[0m\u001b[0;34m[\u001b[0m\u001b[0mj\u001b[0m\u001b[0;34m-\u001b[0m\u001b[0;36m9\u001b[0m\u001b[0;34m]\u001b[0m\u001b[0;34m)\u001b[0m\u001b[0;34m\u001b[0m\u001b[0m\n",
        "\u001b[0;31mNameError\u001b[0m: name 'c_album_prob' is not defined"
       ]
      },
      {
       "output_type": "stream",
       "stream": "stdout",
       "text": [
        "0\n"
       ]
      }
     ],
     "prompt_number": 19
    },
    {
     "cell_type": "code",
     "collapsed": false,
     "input": [
      "muestra= list(albums_a_llenar_10) + list(albums_a_llenar_100) + list(albums_a_llenar_1000) + list(albums_a_llenar_10000)\n",
      "#print muestra\n",
      "\n",
      "csv_out = open('CostoAlbumMundial_36it_noequiprobable.csv', 'wb')\n",
      "\n",
      "Costos = csv.writer(csv_out)\n",
      "\n",
      "for row in zip(muestra, Valor_E_X, Varianza_X):\n",
      "    Costos.writerow(row)\n",
      "\n",
      "csv_out.close()"
     ],
     "language": "python",
     "metadata": {},
     "outputs": []
    },
    {
     "cell_type": "code",
     "collapsed": false,
     "input": [
      "fig, ax1 = subplots()\n",
      "\n",
      "ax2 = ax1.twinx()\n",
      "ax1.plot(albumsallenar, ValorEX, 'g-')\n",
      "ax2.plot(albumsallenar, VarianzaX, 'b--')\n",
      "\n",
      "title(u\"Valor Esperado y Varianza del Costo Total\")\n",
      "ax1.set_xlabel('Numero de Albums a llenar')\n",
      "ax1.set_ylabel('Valor esperado', color='g')\n",
      "ax2.set_ylabel('Varianza', color='b')\n",
      "\n",
      "show()"
     ],
     "language": "python",
     "metadata": {},
     "outputs": []
    },
    {
     "cell_type": "code",
     "collapsed": false,
     "input": [
      "#Se realiza el primedio de los valores esperados \u03bcm\n",
      "Valor_prom_E=mean(ValorEX)\n",
      "\n",
      "#El absoluto de la diferencia entre la Media_mu y los valores esperados de X \n",
      "Diferencial=abs(Valor_prom_E-ValorEX)"
     ],
     "language": "python",
     "metadata": {},
     "outputs": []
    },
    {
     "cell_type": "code",
     "collapsed": false,
     "input": [
      "#Se realiza la grafica de los tama\u00f1os de muestra vs el diferencial\n",
      "plot(albums_a_llenar,Diferencial)\n",
      "yscale('log')\n",
      "title(u\"Valor Esperado y Varianza del Costo Total cuando es no Equiprobable\")\n",
      "xlabel('Numero de Albums a llenar')\n",
      "ylabel('Diferencial entre la media del Valor E y cada Valor E')\n",
      "show()"
     ],
     "language": "python",
     "metadata": {},
     "outputs": []
    },
    {
     "cell_type": "code",
     "collapsed": false,
     "input": [
      "#REFERENCIAS\n",
      "    #http://stackoverflow.com/questions/3679694/a-weighted-version-of-random-choice"
     ],
     "language": "python",
     "metadata": {},
     "outputs": []
    }
   ],
   "metadata": {}
  }
 ]
}