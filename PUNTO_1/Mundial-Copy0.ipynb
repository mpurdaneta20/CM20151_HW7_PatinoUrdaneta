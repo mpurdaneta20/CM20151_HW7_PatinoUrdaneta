{
 "metadata": {
  "name": ""
 },
 "nbformat": 3,
 "nbformat_minor": 0,
 "worksheets": [
  {
   "cells": [
    {
     "cell_type": "heading",
     "level": 1,
     "metadata": {},
     "source": [
      "Punto 1"
     ]
    },
    {
     "cell_type": "markdown",
     "metadata": {},
     "source": [
      "a) \u00bfCuanto cuesta llenar el album del mundial?\n",
      "En una primera instancia se realiza la estimacion del valor esperado y la varianza con el fin de determinar el costo de llenar una cantidad finita de albums (m=10:100:10\u2075) y la variabilidad de dicho costo."
     ]
    },
    {
     "cell_type": "code",
     "collapsed": false,
     "input": [
      "from matplotlib import*\n",
      "from pylab import*\n",
      "from numpy import*\n",
      "from random import*\n",
      "from scipy.stats import*\n",
      "from csv import*\n",
      "import datetime\n",
      "from math import*"
     ],
     "language": "python",
     "metadata": {},
     "outputs": [],
     "prompt_number": 21
    },
    {
     "cell_type": "code",
     "collapsed": false,
     "input": [
      "total_laminas_album=640\n",
      "costo_unidad=400"
     ],
     "language": "python",
     "metadata": {},
     "outputs": [],
     "prompt_number": 17
    },
    {
     "cell_type": "code",
     "collapsed": false,
     "input": [
      "#Funcion que define si el cuadrito dentro del album esta ocupado o no \n",
      "def espacio_lleno(i,album):\n",
      "    if album[i] == 0:\n",
      "        return False\n",
      "    else:\n",
      "        return True"
     ],
     "language": "python",
     "metadata": {},
     "outputs": [],
     "prompt_number": 18
    },
    {
     "cell_type": "code",
     "collapsed": false,
     "input": [
      "#Funcion que define el costo total de llenar un album, teniendo en cuenta que aunque las laminas salgan repetidas no se pueden intercabiar\n",
      "def c_album(total_laminas_album,costo_unidad,numero_a_llenar):\n",
      "    \n",
      "    costo_total_X=zeros(numero_a_llenar)\n",
      "    \n",
      "    for i in range(0,numero_a_llenar):\n",
      "        no_repetidas=0\n",
      "        costo_total=0\n",
      "        album=zeros(total_laminas_album)\n",
      "        while no_repetidas < total_laminas_album:\n",
      "            lamina=randrange(0,total_laminas_album)\n",
      "            if espacio_lleno(lamina,album)== False:\n",
      "                album[lamina]=1\n",
      "                costo_total+=costo_unidad\n",
      "                no_repetidas+=1 \n",
      "                \n",
      "            else:\n",
      "                costo_total+=costo_unidad\n",
      "        \n",
      "        \n",
      "        costo_total_X[i]=costo_total\n",
      "    return costo_total_X"
     ],
     "language": "python",
     "metadata": {},
     "outputs": [],
     "prompt_number": 87
    },
    {
     "cell_type": "code",
     "collapsed": false,
     "input": [
      "print datetime.datetime.now()"
     ],
     "language": "python",
     "metadata": {},
     "outputs": [
      {
       "output_type": "stream",
       "stream": "stdout",
       "text": [
        "2015-05-03 11:44:22.244973\n"
       ]
      }
     ],
     "prompt_number": 110
    },
    {
     "cell_type": "code",
     "collapsed": false,
     "input": [
      "#Encuentra el valor esperado y la varianza dependiendo del tamano de muestra (numero de albums a llenar)\n",
      "albums_a_llenar=arange(10,100000,10)\n",
      "numero_de_albums=len(albums_a_llenar)\n",
      "\n",
      "Valor_E_X=zeros(numero_de_albums)\n",
      "Varianza_X=zeros(numero_de_albums)\n",
      "\n",
      "for j in range(0,numero_de_albums):\n",
      "    s=c_album(total_laminas_album,costo_unidad,albums_a_llenar[j])\n",
      "    print albums_a_llenar[j]\n",
      "    Valor_E_X[j]=mean(s)\n",
      "    Varianza_X[j]=var(s)\n",
      "    \n",
      "print datetime.datetime.now()"
     ],
     "language": "python",
     "metadata": {},
     "outputs": [
      {
       "output_type": "stream",
       "stream": "stdout",
       "text": [
        "10\n",
        "20"
       ]
      },
      {
       "output_type": "stream",
       "stream": "stdout",
       "text": [
        "\n",
        "30"
       ]
      },
      {
       "output_type": "stream",
       "stream": "stdout",
       "text": [
        "\n",
        "40"
       ]
      },
      {
       "output_type": "stream",
       "stream": "stdout",
       "text": [
        "\n",
        "50"
       ]
      },
      {
       "output_type": "stream",
       "stream": "stdout",
       "text": [
        "\n",
        "60"
       ]
      },
      {
       "output_type": "stream",
       "stream": "stdout",
       "text": [
        "\n",
        "70"
       ]
      },
      {
       "output_type": "stream",
       "stream": "stdout",
       "text": [
        "\n",
        "80"
       ]
      },
      {
       "output_type": "stream",
       "stream": "stdout",
       "text": [
        "\n",
        "90"
       ]
      },
      {
       "output_type": "stream",
       "stream": "stdout",
       "text": [
        "\n",
        "100"
       ]
      },
      {
       "output_type": "stream",
       "stream": "stdout",
       "text": [
        "\n",
        "110"
       ]
      }
     ],
     "prompt_number": "*"
    },
    {
     "cell_type": "code",
     "collapsed": false,
     "input": [
      "#Verificamos si se llenaron lo vectores\n",
      "print Valor_E_X\n",
      "print Varianza_X"
     ],
     "language": "python",
     "metadata": {},
     "outputs": [
      {
       "output_type": "stream",
       "stream": "stdout",
       "text": [
        "[ 1718680.          1803420.          1832413.33333333  1920570.          1836752.\n",
        "  1876880.          1836280.          1818430.          1855688.88888889]\n",
        "[  4.31224656e+10   1.30135288e+11   8.85623305e+10   1.66918319e+11\n",
        "   1.24970596e+11   8.87127936e+10   1.15377382e+11   9.02911511e+10\n",
        "   1.35371370e+11]\n"
       ]
      }
     ],
     "prompt_number": 109
    },
    {
     "cell_type": "code",
     "collapsed": false,
     "input": [
      "csv_out = open('CostoAlbumMundial.csv', 'wb')\n",
      "\n",
      "Costos = csv.writer(csv_out)\n",
      "\n",
      "for row in zip(albums_a_llenar, Valor_E_X, Varianza_X):\n",
      "    Costos.writerow(row)\n",
      "\n",
      "csv_out.close()"
     ],
     "language": "python",
     "metadata": {},
     "outputs": [],
     "prompt_number": 28
    },
    {
     "cell_type": "code",
     "collapsed": false,
     "input": [
      "#Para futuras ocasiones dado que correr el archivo es un demorado (alrededor de ___ hrs) se abre el archivo\n",
      "albumsallenar, ValorEX, VarianzaX= genfromtxt(\"CostoAlbumMundial.csv\", delimiter=\",\", unpack=True)"
     ],
     "language": "python",
     "metadata": {},
     "outputs": [],
     "prompt_number": 69
    },
    {
     "cell_type": "code",
     "collapsed": false,
     "input": [
      "#Grafica el tamano de muestra contra el valor esperado y la varianza del costo total (X)\n",
      "fig, ax1 = subplots()\n",
      "\n",
      "ax2 = ax1.twinx()\n",
      "ax1.plot(albumsallenar, ValorEX, 'g-')\n",
      "ax2.plot(albumsallenar, VarianzaX, 'b--')\n",
      "\n",
      "title(u\"Valor Esperado y Varianza del Costo Total\")\n",
      "ax1.set_xlabel('Numero de Albums a llenar')\n",
      "ax1.set_ylabel('Valor esperado', color='g')\n",
      "ax2.set_ylabel('Varianza', color='b')\n",
      "\n",
      "show()"
     ],
     "language": "python",
     "metadata": {},
     "outputs": [],
     "prompt_number": 70
    },
    {
     "cell_type": "code",
     "collapsed": false,
     "input": [
      "#Referencias\n",
      "    #http://stackoverflow.com/questions/14762181/adding-a-y-axis-label-to-secondary-y-axis-in-matplotlib\n",
      "    #http://www.whit.com.au/blog/2011/11/reading-and-writing-csv-files/\n",
      "    #https://www.wakari.io/sharing/bundle/bultako/CursoPythonCientifico"
     ],
     "language": "python",
     "metadata": {},
     "outputs": [],
     "prompt_number": 77
    },
    {
     "cell_type": "code",
     "collapsed": false,
     "input": [
      "a= mean(ValorEX)\n",
      "b=sqrt(mean(VarianzaX))"
     ],
     "language": "python",
     "metadata": {},
     "outputs": [],
     "prompt_number": 71
    },
    {
     "cell_type": "code",
     "collapsed": false,
     "input": [
      "print \"R// Lo que cuesta llenar el album es\", a, \"junto con un error estandar de aproximadamente\", b"
     ],
     "language": "python",
     "metadata": {},
     "outputs": [
      {
       "output_type": "stream",
       "stream": "stdout",
       "text": [
        "R// Lo que cuesta llenar el album es 1809987.10391 junto con un error estandar de aproximadamente 337128.559353\n"
       ]
      }
     ],
     "prompt_number": 72
    },
    {
     "cell_type": "markdown",
     "metadata": {},
     "source": [
      "b) Cual es el tamano de muestra m que se necesita para obtener 95 % de confianza en que |\u03bcm \u2212 \u03bc| \u2264 10\u207b\u2076"
     ]
    },
    {
     "cell_type": "code",
     "collapsed": false,
     "input": [
      "#Se realiza el primedio de los valores esperados \u03bcm\n",
      "Valor_prom_E=mean(ValorEX)\n",
      "\n",
      "#El absoluto de la diferencia entre la Media_mu y los valores esperados de X \n",
      "Diferencial=abs(Valor_prom_E-ValorEX)"
     ],
     "language": "python",
     "metadata": {},
     "outputs": [],
     "prompt_number": 73
    },
    {
     "cell_type": "code",
     "collapsed": false,
     "input": [
      "#Se realiza la grafica de los tama\u00f1os de muestra vs el diferencial\n",
      "plot(albums_a_llenar,Diferencial)\n",
      "yscale('log')\n",
      "title(u\"Valor Esperado y Varianza del Costo Total\")\n",
      "xlabel('Numero de Albums a llenar')\n",
      "t.interval(0.95, 10, loc=1, scale=2) \n",
      "ylabel('Diferencial entre la media del Valor E y cada Valor E')\n",
      "show()"
     ],
     "language": "python",
     "metadata": {},
     "outputs": [],
     "prompt_number": 74
    },
    {
     "cell_type": "code",
     "collapsed": false,
     "input": [
      "#Referencias\n",
      "    #https://www.wakari.io/sharing/bundle/bultako/CursoPythonCientifico"
     ],
     "language": "python",
     "metadata": {},
     "outputs": []
    },
    {
     "cell_type": "code",
     "collapsed": false,
     "input": [
      "print \"R//\""
     ],
     "language": "python",
     "metadata": {},
     "outputs": [
      {
       "output_type": "stream",
       "stream": "stdout",
       "text": [
        "R//\n"
       ]
      }
     ],
     "prompt_number": 49
    },
    {
     "cell_type": "markdown",
     "metadata": {},
     "source": [
      "c) Ahora la probabilidad de obtener una lamina es diferente: $Pholograficas$= 1/3 $Pnormal$,  $Pespeciales$= 1/6 $Pnormal$"
     ]
    },
    {
     "cell_type": "code",
     "collapsed": false,
     "input": [],
     "language": "python",
     "metadata": {},
     "outputs": []
    }
   ],
   "metadata": {}
  }
 ]
}