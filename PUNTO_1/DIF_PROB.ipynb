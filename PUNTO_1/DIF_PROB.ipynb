{
 "metadata": {
  "name": ""
 },
 "nbformat": 3,
 "nbformat_minor": 0,
 "worksheets": [
  {
   "cells": [
    {
     "cell_type": "code",
     "collapsed": false,
     "input": [
      "import numpy\n",
      "import random"
     ],
     "language": "python",
     "metadata": {},
     "outputs": [],
     "prompt_number": 24
    },
    {
     "cell_type": "code",
     "collapsed": false,
     "input": [
      "total_laminas_album=640\n",
      "costo_unidad=400\n",
      "holograficas=40\n",
      "especiales=40"
     ],
     "language": "python",
     "metadata": {},
     "outputs": [],
     "prompt_number": 57
    },
    {
     "cell_type": "code",
     "collapsed": false,
     "input": [
      "def espacio_lleno(i,album):\n",
      "    if album[i] == 0:\n",
      "        return False\n",
      "    else:\n",
      "        return True"
     ],
     "language": "python",
     "metadata": {},
     "outputs": [],
     "prompt_number": 44
    },
    {
     "cell_type": "code",
     "collapsed": false,
     "input": [
      "def seleccionar_lamina():\n",
      "    items  = [[\"normal\", 0.667], [\"holografica\", 0.222], [\"especial\", 0.111]]\n",
      "    elems = [i[0] for i in items]\n",
      "    probs = [i[1] for i in items]\n",
      "    \n",
      "    Lamina_S=numpy.random.choice(elems, 1, p=probs)\n",
      "    #print Lamina_S\n",
      "    return Lamina_S"
     ],
     "language": "python",
     "metadata": {},
     "outputs": [],
     "prompt_number": 49
    },
    {
     "cell_type": "code",
     "collapsed": false,
     "input": [
      "def c_album_prob(total_laminas_album,costo_unidad,numero_a_llenar,holograficas,especiales):\n",
      "    \n",
      "    costo_total_X=zeros(numero_a_llenar)\n",
      "    \n",
      "    for i in range(0,numero_a_llenar):\n",
      "        no_repetidas=0\n",
      "        costo_total=0\n",
      "        subtotal=total_laminas_album-holograficas-especiales\n",
      "        album_n=zeros(subtotal)\n",
      "        album_h=zeros(holograficas)\n",
      "        album_e=zeros(especiales)\n",
      "        \n",
      "        while no_repetidas < total_laminas_album:\n",
      "            L_S=seleccionar_lamina()\n",
      "            \n",
      "            if L_S==\"normal\":\n",
      "                lamina=randrange(0,subtotal)\n",
      "                if espacio_lleno(lamina,album_n)== False:\n",
      "                    album_n[lamina]=1\n",
      "                    costo_total+=costo_unidad\n",
      "                    no_repetidas+=1 \n",
      "                    \n",
      "            if L_S==\"holografica\":\n",
      "                lamina=randrange(0,holograficas)\n",
      "                if espacio_lleno(lamina,album_h)== False:\n",
      "                    album_h[lamina]=1\n",
      "                    costo_total+=costo_unidad\n",
      "                    no_repetidas+=1 \n",
      "                    \n",
      "            if L_S==\"especial\":\n",
      "                lamina=randrange(0,especiales)\n",
      "                if espacio_lleno(lamina,album_e)== False:\n",
      "                    album_e[lamina]=1\n",
      "                    costo_total+=costo_unidad\n",
      "                    no_repetidas+=1 \n",
      "                \n",
      "            else:\n",
      "                costo_total+=costo_unidad\n",
      "        \n",
      "        \n",
      "        costo_total_X[i]=costo_total\n",
      "    return costo_total_X"
     ],
     "language": "python",
     "metadata": {},
     "outputs": [],
     "prompt_number": 50
    },
    {
     "cell_type": "code",
     "collapsed": false,
     "input": [
      "c_album_prob(total_laminas_album,costo_unidad,1,holograficas,especiales)"
     ],
     "language": "python",
     "metadata": {},
     "outputs": [
      {
       "metadata": {},
       "output_type": "pyout",
       "prompt_number": 60,
       "text": [
        "array([ 3568400.])"
       ]
      }
     ],
     "prompt_number": 60
    },
    {
     "cell_type": "code",
     "collapsed": false,
     "input": [
      "#REFERENCIAS\n",
      "    #http://stackoverflow.com/questions/3679694/a-weighted-version-of-random-choice"
     ],
     "language": "python",
     "metadata": {},
     "outputs": []
    },
    {
     "cell_type": "code",
     "collapsed": false,
     "input": [
      "def c_album(total_laminas_album,costo_unidad,numero_a_llenar):\n",
      "    \n",
      "    costo_total_X=zeros(numero_a_llenar)\n",
      "    \n",
      "    for i in range(0,numero_a_llenar):\n",
      "        no_repetidas=0\n",
      "        costo_total=0\n",
      "        album=zeros(total_laminas_album)\n",
      "        while no_repetidas < total_laminas_album:\n",
      "            lamina=randrange(0,total_laminas_album)\n",
      "            if espacio_lleno(lamina,album)== False:\n",
      "                album[lamina]=1\n",
      "                costo_total+=costo_unidad\n",
      "                no_repetidas+=1 \n",
      "                \n",
      "            else:\n",
      "                costo_total+=costo_unidad\n",
      "        \n",
      "        \n",
      "        costo_total_X[i]=costo_total\n",
      "    return costo_total_X"
     ],
     "language": "python",
     "metadata": {},
     "outputs": [],
     "prompt_number": 62
    },
    {
     "cell_type": "code",
     "collapsed": false,
     "input": [
      "import datetime"
     ],
     "language": "python",
     "metadata": {},
     "outputs": [],
     "prompt_number": 63
    },
    {
     "cell_type": "code",
     "collapsed": false,
     "input": [
      "print datetime.datetime.now()\n",
      "c_album(total_laminas_album,costo_unidad,10000)\n",
      "print datetime.datetime.now()"
     ],
     "language": "python",
     "metadata": {},
     "outputs": [
      {
       "output_type": "stream",
       "stream": "stdout",
       "text": [
        "2015-05-04 09:34:09.725245\n",
        "2015-05-04 14:36:55.416194"
       ]
      },
      {
       "output_type": "stream",
       "stream": "stdout",
       "text": [
        "\n"
       ]
      }
     ],
     "prompt_number": 67
    },
    {
     "cell_type": "code",
     "collapsed": false,
     "input": [],
     "language": "python",
     "metadata": {},
     "outputs": []
    }
   ],
   "metadata": {}
  }
 ]
}