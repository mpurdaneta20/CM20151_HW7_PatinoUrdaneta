{
 "cells": [
  {
   "cell_type": "markdown",
   "metadata": {},
   "source": [
    "#Fit de Campo Magnético Solar usando MCMC"
   ]
  },
  {
   "cell_type": "code",
   "execution_count": 1,
   "metadata": {
    "collapsed": false
   },
   "outputs": [
    {
     "name": "stdout",
     "output_type": "stream",
     "text": [
      "Populating the interactive namespace from numpy and matplotlib\n"
     ]
    }
   ],
   "source": [
    "%pylab inline\n",
    "import pyfits"
   ]
  },
  {
   "cell_type": "markdown",
   "metadata": {},
   "source": [
    "##Importación de datos"
   ]
  },
  {
   "cell_type": "code",
   "execution_count": 6,
   "metadata": {
    "collapsed": false
   },
   "outputs": [],
   "source": [
    "sdo = pyfits.open('hmi.m_45s.magnetogram.subregion_x1y1.fits')\n",
    "time = loadtxt(\"time_series.csv\")\n",
    "data = sdo[0].data"
   ]
  },
  {
   "cell_type": "markdown",
   "metadata": {},
   "source": [
    "##Fit para un pixel"
   ]
  },
  {
   "cell_type": "code",
   "execution_count": 15,
   "metadata": {
    "collapsed": false
   },
   "outputs": [],
   "source": [
    "campo = data[:,138,241]"
   ]
  },
  {
   "cell_type": "code",
   "execution_count": 17,
   "metadata": {
    "collapsed": false
   },
   "outputs": [
    {
     "data": {
      "text/plain": [
       "<matplotlib.text.Text at 0xb0adc5ac>"
      ]
     },
     "execution_count": 17,
     "metadata": {},
     "output_type": "execute_result"
    },
    {
     "data": {
      "image/png": "[encoded data removed]",
      "text/plain": [
       "<matplotlib.figure.Figure at 0xb0aca6ec>"
      ]
     },
     "metadata": {},
     "output_type": "display_data"
    }
   ],
   "source": [
    "plot(time, campo)\n",
    "xlabel(\"Tiempo [Minutos]\")\n",
    "ylabel(\"Campo Magnetico [Gauss]\")"
   ]
  },
  {
   "cell_type": "markdown",
   "metadata": {},
   "source": [
    "###Ajuste Lineal"
   ]
  },
  {
   "cell_type": "code",
   "execution_count": 97,
   "metadata": {
    "collapsed": true
   },
   "outputs": [],
   "source": [
    "def linear_likelihood(y_obs, y_model):\n",
    "    chi_squared = (1.0/2.0)*sum((y_obs-y_model)**2)\n",
    "    return -chi_squared"
   ]
  },
  {
   "cell_type": "code",
   "execution_count": 98,
   "metadata": {
    "collapsed": false
   },
   "outputs": [],
   "source": [
    "def linear_model(x_obs, a, b):\n",
    "    return x_obs*b + a"
   ]
  },
  {
   "cell_type": "code",
   "execution_count": 99,
   "metadata": {
    "collapsed": false
   },
   "outputs": [
    {
     "name": "stdout",
     "output_type": "stream",
     "text": [
      "[ 0.68087946]\n",
      "[ 0.24206691]\n",
      "[-373805.48005134]\n"
     ]
    }
   ],
   "source": [
    "a_walk = empty((0))\n",
    "b_walk = empty((0))\n",
    "l_walk = empty((0))\n",
    "\n",
    "a_walk = append(a_walk, random.random())\n",
    "b_walk = append(b_walk, random.random())\n",
    "\n",
    "y_init = linear_model(time, a_walk[0], b_walk[0])\n",
    "l_walk = append(l_walk, linear_likelihood(campo, y_init))\n",
    "print a_walk\n",
    "print b_walk\n",
    "print l_walk"
   ]
  },
  {
   "cell_type": "code",
   "execution_count": 100,
   "metadata": {
    "collapsed": false
   },
   "outputs": [],
   "source": [
    "n_iterations = 20000\n",
    "for i in range(n_iterations):\n",
    "    a_prime = np.random.normal(a_walk[i], 20) \n",
    "    b_prime = np.random.normal(b_walk[i], 0.1)\n",
    "\n",
    "    y_init = linear_model(time, a_walk[i], b_walk[i])\n",
    "    y_prime = linear_model(time, a_prime, b_prime)\n",
    "    \n",
    "    l_prime = linear_likelihood(campo, y_prime)\n",
    "    l_init = linear_likelihood(campo, y_init)\n",
    "    \n",
    "    alpha = l_prime/l_init\n",
    "    if(alpha>=1.0):\n",
    "        a_walk  = append(a_walk,a_prime)\n",
    "        b_walk  = append(b_walk,b_prime)\n",
    "        l_walk = append(l_walk, l_prime)\n",
    "    else:\n",
    "        beta = random.random()\n",
    "        if(beta<=alpha):\n",
    "            a_walk = append(a_walk,a_prime)\n",
    "            b_walk = append(b_walk,b_prime)\n",
    "            l_walk = append(l_walk, l_prime)\n",
    "        else:\n",
    "            a_walk = append(a_walk,a_walk[i])\n",
    "            b_walk = append(b_walk,b_walk[i])\n",
    "            l_walk = append(l_walk, l_init)"
   ]
  },
  {
   "cell_type": "code",
   "execution_count": 102,
   "metadata": {
    "collapsed": false
   },
   "outputs": [],
   "source": [
    "max_index = argmax(l_walk)\n",
    "best_a = a_walk[max_index]\n",
    "best_b = b_walk[max_index]"
   ]
  },
  {
   "cell_type": "code",
   "execution_count": null,
   "metadata": {
    "collapsed": true
   },
   "outputs": [],
   "source": [
    "linear_fit = gauss_model(time, best_c, best_d, best_sigma, best_mu)\n",
    "plot(time, campo)\n",
    "plot(time, y_fit)\n",
    "xlabel(\"Tiempo [Minutos]\")\n",
    "ylabel(\"Campo Magnetico [Gauss]\")"
   ]
  },
  {
   "cell_type": "markdown",
   "metadata": {},
   "source": [
    "###Ajuste Lineal Gaussiano"
   ]
  },
  {
   "cell_type": "code",
   "execution_count": 80,
   "metadata": {
    "collapsed": true
   },
   "outputs": [],
   "source": [
    "def likelihood(y_obs, y_model):\n",
    "    chi_squared = (1.0/2.0)*sum((y_obs-y_model)**2)\n",
    "    return -chi_squared"
   ]
  },
  {
   "cell_type": "code",
   "execution_count": 81,
   "metadata": {
    "collapsed": true
   },
   "outputs": [],
   "source": [
    "def gauss_model(t,c, d, sigma, mu):\n",
    "    return c + d*t + (1/(sigma*sqrt(2*pi)))*exp(-0.5*((t-mu)/sigma)**2)"
   ]
  },
  {
   "cell_type": "code",
   "execution_count": 82,
   "metadata": {
    "collapsed": false
   },
   "outputs": [
    {
     "name": "stdout",
     "output_type": "stream",
     "text": [
      "[-1506660.23649939]\n"
     ]
    }
   ],
   "source": [
    "c_walk = empty((0)) #this is an empty list to keep all the steps\n",
    "d_walk = empty((0))\n",
    "sigma_walk = empty((0))\n",
    "mu_walk = empty((0))\n",
    "l_walk = empty((0))\n",
    "\n",
    "c_walk = append(c_walk, random.random())\n",
    "d_walk = append(d_walk, random.random())\n",
    "sigma_walk = append(sigma_walk, random.random())\n",
    "mu_walk = append(mu_walk, random.random())\n",
    "\n",
    "y_init = gauss_model(time, c_walk[0], d_walk[0], sigma_walk[0], mu_walk[0])\n",
    "l_walk = append(l_walk, likelihood(campo, y_init))\n",
    "print l_walk"
   ]
  },
  {
   "cell_type": "code",
   "execution_count": 83,
   "metadata": {
    "collapsed": true
   },
   "outputs": [],
   "source": [
    "n_iterations = 20000\n",
    "for i in range(n_iterations):\n",
    "    c_prime = np.random.normal(c_walk[i], 20) \n",
    "    d_prime = np.random.normal(d_walk[i], 0.1)\n",
    "    sigma_prime = np.random.normal(sigma_walk[i], 1)\n",
    "    mu_prime = np.random.normal(mu_walk[i], 10)\n",
    "\n",
    "    y_init = gauss_model(time, c_walk[i], d_walk[i], sigma_walk[i], mu_walk[i])\n",
    "    y_prime = gauss_model(time, c_prime, d_prime, sigma_prime, mu_prime)\n",
    "    \n",
    "    l_prime = likelihood(campo, y_prime)\n",
    "    l_init = likelihood(campo, y_init)\n",
    "    \n",
    "    alpha = l_prime-l_init\n",
    "    if(alpha>=0.0):\n",
    "        c_walk = append(c_walk, c_prime)\n",
    "        d_walk = append(d_walk, d_prime)\n",
    "        sigma_walk = append(sigma_walk, sigma_prime)\n",
    "        mu_walk = append(mu_walk, mu_prime)\n",
    "        l_walk = append(l_walk, l_prime)\n",
    "    else:\n",
    "        beta = random.random()\n",
    "        if(beta<=alpha):\n",
    "            c_walk = append(c_walk, c_prime)\n",
    "            d_walk = append(d_walk, d_prime)\n",
    "            sigma_walk = append(sigma_walk, sigma_prime)\n",
    "            mu_walk = append(mu_walk, mu_prime)\n",
    "            l_walk = append(l_walk, l_prime)\n",
    "        else:\n",
    "            c_walk = append(c_walk,c_walk[i])\n",
    "            d_walk = append(d_walk,d_walk[i])\n",
    "            sigma_walk = append(sigma_walk, sigma_walk[i])\n",
    "            mu_walk = append(mu_walk, mu_walk[i])\n",
    "            l_walk = append(l_walk, l_init)"
   ]
  },
  {
   "cell_type": "code",
   "execution_count": 84,
   "metadata": {
    "collapsed": false
   },
   "outputs": [
    {
     "name": "stdout",
     "output_type": "stream",
     "text": [
      "-16.6020285058 0.0656935264492 -2.56954140844 -26.9859047742 -681.635751303\n"
     ]
    }
   ],
   "source": [
    "max_index = argmax(l_walk)\n",
    "best_c = c_walk[max_index]\n",
    "best_d = d_walk[max_index]\n",
    "best_sigma = sigma_walk[max_index]\n",
    "best_mu = mu_walk[max_index]\n",
    "print best_c, best_d, best_sigma, best_mu, l_walk[max_index]"
   ]
  },
  {
   "cell_type": "code",
   "execution_count": 93,
   "metadata": {
    "collapsed": false,
    "scrolled": true
   },
   "outputs": [
    {
     "data": {
      "text/plain": [
       "<matplotlib.text.Text at 0xb088a96c>"
      ]
     },
     "execution_count": 93,
     "metadata": {},
     "output_type": "execute_result"
    },
    {
     "data": {
      "image/png": "[encoded data removed]",
      "text/plain": [
       "<matplotlib.figure.Figure at 0xb085874c>"
      ]
     },
     "metadata": {},
     "output_type": "display_data"
    }
   ],
   "source": [
    "gauss_fit = gauss_model(time, best_c, best_d, best_sigma, best_mu)\n",
    "plot(time, campo)\n",
    "plot(time, y_fit)\n",
    "xlabel(\"Tiempo [Minutos]\")\n",
    "ylabel(\"Campo Magnetico [Gauss]\")"
   ]
  },
  {
   "cell_type": "markdown",
   "metadata": {},
   "source": [
    "###Ajuste Paso Lineal"
   ]
  },
  {
   "cell_type": "code",
   "execution_count": 88,
   "metadata": {
    "collapsed": true
   },
   "outputs": [],
   "source": [
    "def step_model(t, f, g, h, n, t_0):\n",
    "    return f + g*t + h*(1+(2/pi)*arctan(n*(t-t_0)))"
   ]
  },
  {
   "cell_type": "code",
   "execution_count": 89,
   "metadata": {
    "collapsed": false
   },
   "outputs": [
    {
     "name": "stdout",
     "output_type": "stream",
     "text": [
      "[-251750.39500402]\n"
     ]
    }
   ],
   "source": [
    "f_walk = empty((0)) #this is an empty list to keep all the steps\n",
    "g_walk = empty((0))\n",
    "h_walk = empty((0))\n",
    "n_walk = empty((0))\n",
    "t_0_walk = empty((0))\n",
    "l_walk = empty((0))\n",
    "\n",
    "f_walk = append(f_walk, random.random())\n",
    "g_walk = append(g_walk, random.random())\n",
    "h_walk = append(h_walk, random.random())\n",
    "n_walk = append(n_walk, random.random())\n",
    "t_0_walk = append(t_0_walk, random.random())\n",
    "\n",
    "y_init = step_model(time, f_walk[0], g_walk[0], h_walk[0], n_walk[0], t_0_walk[0])\n",
    "l_walk = append(l_walk, likelihood(campo, y_init))\n",
    "print l_walk"
   ]
  },
  {
   "cell_type": "code",
   "execution_count": 91,
   "metadata": {
    "collapsed": false
   },
   "outputs": [],
   "source": [
    "n_iterations = 20000\n",
    "for i in range(n_iterations):\n",
    "    f_prime = np.random.normal(f_walk[i], 20) \n",
    "    g_prime = np.random.normal(g_walk[i], 0.1)\n",
    "    h_prime = np.random.normal(h_walk[i], 10)\n",
    "    n_prime = np.random.normal(n_walk[i], 10)\n",
    "    t_0_prime = np.random.normal(n_walk[i], 10)\n",
    "\n",
    "    y_init = step_model(time, f_walk[i], g_walk[i], h_walk[i], n_walk[i], t_0_walk[i])\n",
    "    y_prime = step_model(time, f_prime, g_prime, h_prime, n_prime, t_0_prime)\n",
    "    \n",
    "    l_prime = likelihood(campo, y_prime)\n",
    "    l_init = likelihood(campo, y_init)\n",
    "    \n",
    "    alpha = l_prime-l_init\n",
    "    if(alpha>=0.0):\n",
    "        f_walk = append(f_walk, f_prime)\n",
    "        g_walk = append(g_walk, g_prime)\n",
    "        h_walk = append(h_walk, h_prime)\n",
    "        n_walk = append(n_walk, n_prime)\n",
    "        t_0_walk = append(t_0_walk, t_0_prime)\n",
    "        l_walk = append(l_walk, l_prime)\n",
    "    else:\n",
    "        beta = random.random()\n",
    "        if(beta<=alpha):\n",
    "            f_walk = append(f_walk, f_prime)\n",
    "            g_walk = append(g_walk, g_prime)\n",
    "            h_walk = append(h_walk, h_prime)\n",
    "            n_walk = append(n_walk, n_prime)\n",
    "            t_0_walk = append(t_0_walk, t_0_prime)\n",
    "            l_walk = append(l_walk, l_prime)\n",
    "        else:\n",
    "            f_walk = append(f_walk, f_walk[i])\n",
    "            g_walk = append(g_walk, g_walk[i])\n",
    "            h_walk = append(h_walk, h_walk[i])\n",
    "            n_walk = append(n_walk, n_walk[i])\n",
    "            t_0_walk = append(t_0_walk, t_0_walk[i])\n",
    "            l_walk = append(l_walk, l_init)"
   ]
  },
  {
   "cell_type": "code",
   "execution_count": 92,
   "metadata": {
    "collapsed": false
   },
   "outputs": [
    {
     "name": "stdout",
     "output_type": "stream",
     "text": [
      "-13.2243062502 0.0783162420719 -3.37092211135 43.4709102632 50.7073995215 -635.654620857\n"
     ]
    }
   ],
   "source": [
    "max_index = argmax(l_walk)\n",
    "best_f = f_walk[max_index]\n",
    "best_g = g_walk[max_index]\n",
    "best_h = h_walk[max_index]\n",
    "best_n = n_walk[max_index]\n",
    "best_t_0 = t_0_walk[max_index]\n",
    "print best_f, best_g, best_h, best_n, best_t_0, l_walk[max_index]"
   ]
  },
  {
   "cell_type": "code",
   "execution_count": 95,
   "metadata": {
    "collapsed": false
   },
   "outputs": [
    {
     "data": {
      "text/plain": [
       "<matplotlib.text.Text at 0xb090942c>"
      ]
     },
     "execution_count": 95,
     "metadata": {},
     "output_type": "execute_result"
    },
    {
     "data": {
      "image/png": "[encoded data removed]",
      "text/plain": [
       "<matplotlib.figure.Figure at 0xb087fdcc>"
      ]
     },
     "metadata": {},
     "output_type": "display_data"
    }
   ],
   "source": [
    "step_fit = step_model(time, best_f, best_g, best_h, best_n, best_t_0)\n",
    "plot(time, campo)\n",
    "plot(time, step_fit)\n",
    "xlabel(\"Tiempo [Minutos]\")\n",
    "ylabel(\"Campo Magnetico [Gauss]\")"
   ]
  },
  {
   "cell_type": "code",
   "execution_count": null,
   "metadata": {
    "collapsed": true
   },
   "outputs": [],
   "source": []
  }
 ],
 "metadata": {
  "kernelspec": {
   "display_name": "Python 2",
   "language": "python",
   "name": "python2"
  },
  "language_info": {
   "codemirror_mode": {
    "name": "ipython",
    "version": 2
   },
   "file_extension": ".py",
   "mimetype": "text/x-python",
   "name": "python",
   "nbconvert_exporter": "python",
   "pygments_lexer": "ipython2",
   "version": "2.7.9"
  }
 },
 "nbformat": 4,
 "nbformat_minor": 0
}
