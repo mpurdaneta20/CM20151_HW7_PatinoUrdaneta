{
 "metadata": {
  "name": ""
 },
 "nbformat": 3,
 "nbformat_minor": 0,
 "worksheets": [
  {
   "cells": [
    {
     "cell_type": "code",
     "collapsed": false,
     "input": [
      "#Llenar el album del mundial "
     ],
     "language": "python",
     "metadata": {},
     "outputs": [],
     "prompt_number": 1
    },
    {
     "cell_type": "code",
     "collapsed": false,
     "input": [
      "from matplotlib import*\n",
      "from pylab import*\n",
      "from random import*"
     ],
     "language": "python",
     "metadata": {},
     "outputs": [],
     "prompt_number": 19
    },
    {
     "cell_type": "code",
     "collapsed": false,
     "input": [
      "total_laminas_album=640\n",
      "costo_unidad=400"
     ],
     "language": "python",
     "metadata": {},
     "outputs": [],
     "prompt_number": 112
    },
    {
     "cell_type": "code",
     "collapsed": false,
     "input": [
      "#Funcion que define si el cuadrito dentro del album esta ocupado o no \n",
      "def espacio_lleno(i,album):\n",
      "    if album[i] == 0:\n",
      "        return False\n",
      "    else:\n",
      "        return True"
     ],
     "language": "python",
     "metadata": {},
     "outputs": [],
     "prompt_number": 113
    },
    {
     "cell_type": "code",
     "collapsed": false,
     "input": [
      "#Funcion que define el costo total de llenar un album, teniendo en cuenta que aunque las laminas salgan repetidas no se pueden intercabiar\n",
      "def c_album(total_laminas_album,costo_unidad,numero_album):\n",
      "    album=zeros(total_laminas)\n",
      "    unidades_compradas=0\n",
      "    repetidas=0\n",
      "    no_repetidas=0\n",
      "    costo_total=0\n",
      "    while no_repetidas < total_laminas_album*numero_album:\n",
      "        lamina=randrange(0,total_laminas_album,1)\n",
      "        if espacio_lleno(lamina,album)== False:\n",
      "            album[lamina]=1\n",
      "            costo_total+=costo_unidad\n",
      "            no_repetidas+=1 \n",
      "        else:\n",
      "            costo_total+=costo_unidad\n",
      "            repetidas+=1\n",
      "    unidades_compradas=repetidas+no_repetidas\n",
      "    #print unidades_compradas\n",
      "    #print album\n",
      "    return costo_total"
     ],
     "language": "python",
     "metadata": {},
     "outputs": [],
     "prompt_number": 116
    },
    {
     "cell_type": "code",
     "collapsed": false,
     "input": [
      "for i in range(1,10):\n",
      "    s=zeros(10)\n",
      "    s[i]=c_album(total_laminas,costo_unidad,1)\n",
      "    #print s\n",
      "a=mean(s)                          "
     ],
     "language": "python",
     "metadata": {},
     "outputs": [
      {
       "output_type": "stream",
       "stream": "stdout",
       "text": [
        "185440.0\n"
       ]
      }
     ],
     "prompt_number": 134
    },
    {
     "cell_type": "code",
     "collapsed": false,
     "input": [],
     "language": "python",
     "metadata": {},
     "outputs": []
    }
   ],
   "metadata": {}
  }
 ]
}